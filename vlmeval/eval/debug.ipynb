{
 "cells": [
  {
   "cell_type": "code",
   "execution_count": null,
   "metadata": {},
   "outputs": [],
   "source": [
    "import mmvet_eval\n",
    "\n",
    "result_path = '../infer/llava_v1.5_13b/llava_v1.5_13b_MMVet_gpt-3.5-turbo-1106.xlsx'\n",
    "mmvet_eval.MMVet_acc(result_path)"
   ]
  }
 ],
 "metadata": {
  "language_info": {
   "name": "python"
  }
 },
 "nbformat": 4,
 "nbformat_minor": 2
}
