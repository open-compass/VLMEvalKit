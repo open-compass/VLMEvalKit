{
 "cells": [
  {
   "cell_type": "code",
   "execution_count": 4,
   "metadata": {},
   "outputs": [],
   "source": [
    "import json\n",
    "import pandas as pd"
   ]
  },
  {
   "cell_type": "code",
   "execution_count": 5,
   "metadata": {},
   "outputs": [],
   "source": [
    "def load_data(data_path):\n",
    "    if data_path.endswith('.json'):\n",
    "        with open(data_path, 'r',encoding='utf-8') as f:\n",
    "            data = json.load(f)\n",
    "    elif data_path.endswith('.jsonl'):\n",
    "        data = []\n",
    "        with open(data_path, 'r') as f:\n",
    "            data = [json.loads(line) for line in f]\n",
    "    elif data_path.endswith('.tsv'):\n",
    "        data = pd.read_csv(data_path, sep='\\t')\n",
    "    else:\n",
    "        data = None\n",
    "    return data\n",
    "\n",
    "def save_json(json_path, data):\n",
    "    if json_path.endswith('.jsonl'):\n",
    "        with open(json_path, 'w', encoding='utf-8') as f:\n",
    "            for d in data:\n",
    "                json_line = json.dumps(d, ensure_ascii=False)\n",
    "                f.write(json_line + '\\n')\n",
    "    elif json_path.endswith('.json'):\n",
    "        with open(json_path, 'w',encoding='utf-8') as f:\n",
    "            json.dump(data, f, ensure_ascii=False,indent=4)\n",
    "    else:\n",
    "        print('json_path must endswith .json or .jsonl')\n",
    "    print(f'save {json_path} done!')"
   ]
  },
  {
   "cell_type": "code",
   "execution_count": 6,
   "metadata": {},
   "outputs": [
    {
     "data": {
      "text/html": [
       "<div>\n",
       "<style scoped>\n",
       "    .dataframe tbody tr th:only-of-type {\n",
       "        vertical-align: middle;\n",
       "    }\n",
       "\n",
       "    .dataframe tbody tr th {\n",
       "        vertical-align: top;\n",
       "    }\n",
       "\n",
       "    .dataframe thead th {\n",
       "        text-align: right;\n",
       "    }\n",
       "</style>\n",
       "<table border=\"1\" class=\"dataframe\">\n",
       "  <thead>\n",
       "    <tr style=\"text-align: right;\">\n",
       "      <th></th>\n",
       "      <th>id</th>\n",
       "      <th>index</th>\n",
       "      <th>question</th>\n",
       "      <th>split</th>\n",
       "      <th>A</th>\n",
       "      <th>B</th>\n",
       "      <th>C</th>\n",
       "      <th>D</th>\n",
       "      <th>answer</th>\n",
       "      <th>topic_difficulty</th>\n",
       "      <th>...</th>\n",
       "      <th>explanation</th>\n",
       "      <th>image</th>\n",
       "      <th>image_path</th>\n",
       "      <th>E</th>\n",
       "      <th>F</th>\n",
       "      <th>G</th>\n",
       "      <th>H</th>\n",
       "      <th>I</th>\n",
       "      <th>category</th>\n",
       "      <th>l2-category</th>\n",
       "    </tr>\n",
       "  </thead>\n",
       "  <tbody>\n",
       "    <tr>\n",
       "      <th>0</th>\n",
       "      <td>dev_Accounting_1</td>\n",
       "      <td>1</td>\n",
       "      <td>Each of the following situations relates to a ...</td>\n",
       "      <td>dev</td>\n",
       "      <td>$63,020</td>\n",
       "      <td>$58,410</td>\n",
       "      <td>$71,320</td>\n",
       "      <td>$77,490</td>\n",
       "      <td>D</td>\n",
       "      <td>Easy</td>\n",
       "      <td>...</td>\n",
       "      <td>NaN</td>\n",
       "      <td>['/9j/4AAQSkZJRgABAQAAAQABAAD/2wBDAAgGBgcGBQgH...</td>\n",
       "      <td>['1_1.jpg']</td>\n",
       "      <td>NaN</td>\n",
       "      <td>NaN</td>\n",
       "      <td>NaN</td>\n",
       "      <td>NaN</td>\n",
       "      <td>NaN</td>\n",
       "      <td>Business</td>\n",
       "      <td>Accounting</td>\n",
       "    </tr>\n",
       "    <tr>\n",
       "      <th>1</th>\n",
       "      <td>dev_Accounting_2</td>\n",
       "      <td>2</td>\n",
       "      <td>Here are facts for the Hudson Roofing Company ...</td>\n",
       "      <td>dev</td>\n",
       "      <td>$171,900</td>\n",
       "      <td>$170,000</td>\n",
       "      <td>$172,500</td>\n",
       "      <td>$181,900</td>\n",
       "      <td>A</td>\n",
       "      <td>Easy</td>\n",
       "      <td>...</td>\n",
       "      <td>NaN</td>\n",
       "      <td>['/9j/4AAQSkZJRgABAQAAAQABAAD/2wBDAAgGBgcGBQgH...</td>\n",
       "      <td>['2_1.jpg']</td>\n",
       "      <td>NaN</td>\n",
       "      <td>NaN</td>\n",
       "      <td>NaN</td>\n",
       "      <td>NaN</td>\n",
       "      <td>NaN</td>\n",
       "      <td>Business</td>\n",
       "      <td>Accounting</td>\n",
       "    </tr>\n",
       "  </tbody>\n",
       "</table>\n",
       "<p>2 rows × 23 columns</p>\n",
       "</div>"
      ],
      "text/plain": [
       "                 id  index                                           question  \\\n",
       "0  dev_Accounting_1      1  Each of the following situations relates to a ...   \n",
       "1  dev_Accounting_2      2  Here are facts for the Hudson Roofing Company ...   \n",
       "\n",
       "  split         A         B         C         D answer topic_difficulty  ...  \\\n",
       "0   dev   $63,020   $58,410   $71,320   $77,490      D             Easy  ...   \n",
       "1   dev  $171,900  $170,000  $172,500  $181,900      A             Easy  ...   \n",
       "\n",
       "  explanation                                              image   image_path  \\\n",
       "0         NaN  ['/9j/4AAQSkZJRgABAQAAAQABAAD/2wBDAAgGBgcGBQgH...  ['1_1.jpg']   \n",
       "1         NaN  ['/9j/4AAQSkZJRgABAQAAAQABAAD/2wBDAAgGBgcGBQgH...  ['2_1.jpg']   \n",
       "\n",
       "     E    F    G    H    I  category l2-category  \n",
       "0  NaN  NaN  NaN  NaN  NaN  Business  Accounting  \n",
       "1  NaN  NaN  NaN  NaN  NaN  Business  Accounting  \n",
       "\n",
       "[2 rows x 23 columns]"
      ]
     },
     "execution_count": 6,
     "metadata": {},
     "output_type": "execute_result"
    }
   ],
   "source": [
    "data_path = '/data02/zhaop-l/code/VLMEvalKit/LMUData/MMMU_DEV_VAL.tsv'\n",
    "data = load_data(data_path)\n",
    "data.head(2)"
   ]
  },
  {
   "cell_type": "code",
   "execution_count": 18,
   "metadata": {},
   "outputs": [
    {
     "data": {
      "text/html": [
       "<div>\n",
       "<style scoped>\n",
       "    .dataframe tbody tr th:only-of-type {\n",
       "        vertical-align: middle;\n",
       "    }\n",
       "\n",
       "    .dataframe tbody tr th {\n",
       "        vertical-align: top;\n",
       "    }\n",
       "\n",
       "    .dataframe thead th {\n",
       "        text-align: right;\n",
       "    }\n",
       "</style>\n",
       "<table border=\"1\" class=\"dataframe\">\n",
       "  <thead>\n",
       "    <tr style=\"text-align: right;\">\n",
       "      <th></th>\n",
       "      <th>id</th>\n",
       "      <th>index</th>\n",
       "      <th>question</th>\n",
       "      <th>split</th>\n",
       "      <th>A</th>\n",
       "      <th>B</th>\n",
       "      <th>C</th>\n",
       "      <th>D</th>\n",
       "      <th>answer</th>\n",
       "      <th>topic_difficulty</th>\n",
       "      <th>...</th>\n",
       "      <th>explanation</th>\n",
       "      <th>image</th>\n",
       "      <th>image_path</th>\n",
       "      <th>E</th>\n",
       "      <th>F</th>\n",
       "      <th>G</th>\n",
       "      <th>H</th>\n",
       "      <th>I</th>\n",
       "      <th>category</th>\n",
       "      <th>l2-category</th>\n",
       "    </tr>\n",
       "  </thead>\n",
       "  <tbody>\n",
       "    <tr>\n",
       "      <th>65</th>\n",
       "      <td>validation_Agriculture_26</td>\n",
       "      <td>733</td>\n",
       "      <td>&lt;image 1&gt; What group of pathogens, often mista...</td>\n",
       "      <td>validation</td>\n",
       "      <td>I don't know and I don't want to guess</td>\n",
       "      <td>Nematodes</td>\n",
       "      <td>Fungi</td>\n",
       "      <td>Phytoplasmas</td>\n",
       "      <td>D</td>\n",
       "      <td>Easy</td>\n",
       "      <td>...</td>\n",
       "      <td>&lt;image 2&gt;The correct answer is:\\nPhytoplasmas:...</td>\n",
       "      <td>['/9j/4AAQSkZJRgABAQAAAQABAAD/2wBDAAgGBgcGBQgH...</td>\n",
       "      <td>['733_1.jpg', '733_2.jpg']</td>\n",
       "      <td>Bacteria</td>\n",
       "      <td>NaN</td>\n",
       "      <td>NaN</td>\n",
       "      <td>NaN</td>\n",
       "      <td>NaN</td>\n",
       "      <td>Tech &amp; Engineering</td>\n",
       "      <td>Agriculture</td>\n",
       "    </tr>\n",
       "  </tbody>\n",
       "</table>\n",
       "<p>1 rows × 23 columns</p>\n",
       "</div>"
      ],
      "text/plain": [
       "                           id  index  \\\n",
       "65  validation_Agriculture_26    733   \n",
       "\n",
       "                                             question       split  \\\n",
       "65  <image 1> What group of pathogens, often mista...  validation   \n",
       "\n",
       "                                         A          B      C             D  \\\n",
       "65  I don't know and I don't want to guess  Nematodes  Fungi  Phytoplasmas   \n",
       "\n",
       "   answer topic_difficulty  ...  \\\n",
       "65      D             Easy  ...   \n",
       "\n",
       "                                          explanation  \\\n",
       "65  <image 2>The correct answer is:\\nPhytoplasmas:...   \n",
       "\n",
       "                                                image  \\\n",
       "65  ['/9j/4AAQSkZJRgABAQAAAQABAAD/2wBDAAgGBgcGBQgH...   \n",
       "\n",
       "                    image_path         E    F    G    H    I  \\\n",
       "65  ['733_1.jpg', '733_2.jpg']  Bacteria  NaN  NaN  NaN  NaN   \n",
       "\n",
       "              category  l2-category  \n",
       "65  Tech & Engineering  Agriculture  \n",
       "\n",
       "[1 rows x 23 columns]"
      ]
     },
     "execution_count": 18,
     "metadata": {},
     "output_type": "execute_result"
    }
   ],
   "source": [
    "data.loc[data['id']=='validation_Agriculture_26']"
   ]
  },
  {
   "cell_type": "code",
   "execution_count": 8,
   "metadata": {},
   "outputs": [
    {
     "data": {
      "text/plain": [
       "1050"
      ]
     },
     "execution_count": 8,
     "metadata": {},
     "output_type": "execute_result"
    }
   ],
   "source": [
    "images_list = data['image']\n",
    "len(images_list)"
   ]
  },
  {
   "cell_type": "code",
   "execution_count": 12,
   "metadata": {},
   "outputs": [],
   "source": [
    "for i in images_list:\n",
    "    if isinstance(i,list):\n",
    "        print(i)\n",
    "        break"
   ]
  },
  {
   "cell_type": "code",
   "execution_count": 13,
   "metadata": {},
   "outputs": [
    {
     "data": {
      "text/plain": [
       "[{'type': 'text',\n",
       "  'value': \"<image 1> What group of pathogens, often mistaken for regrowth following glyphosate treatment, can cause a growth habit in blackberry plants that is near-identical to the 'little leaf' symptoms commonly witnessed post-glyphosate treatment?\\nA. I don't know and I don't want to guess\\nB. Nematodes\\nC. Fungi\\nD. Phytoplasmas\\nE. Bacteria\\nAnswer with the option's letter from the given choices directly.\"},\n",
       " {'type': 'image',\n",
       "  'value': '/data02/zhaop-l/code/VLMEvalKit/LMUData/images/MMMU/733_1.jpg'},\n",
       " {'type': 'image',\n",
       "  'value': '/data02/zhaop-l/code/VLMEvalKit/LMUData/images/MMMU/733_2.jpg'}]"
      ]
     },
     "execution_count": 13,
     "metadata": {},
     "output_type": "execute_result"
    }
   ],
   "source": [
    "a =[{'type': 'text', 'value': \"<image 1> What group of pathogens, often mistaken for regrowth following glyphosate treatment, can cause a growth habit in blackberry plants that is near-identical to the 'little leaf' symptoms commonly witnessed post-glyphosate treatment?\\nA. I don't know and I don't want to guess\\nB. Nematodes\\nC. Fungi\\nD. Phytoplasmas\\nE. Bacteria\\nAnswer with the option's letter from the given choices directly.\"}, {'type': 'image', 'value': '/data02/zhaop-l/code/VLMEvalKit/LMUData/images/MMMU/733_1.jpg'}, {'type': 'image', 'value': '/data02/zhaop-l/code/VLMEvalKit/LMUData/images/MMMU/733_2.jpg'}]\n",
    "a"
   ]
  }
 ],
 "metadata": {
  "kernelspec": {
   "display_name": "mllm",
   "language": "python",
   "name": "python3"
  },
  "language_info": {
   "codemirror_mode": {
    "name": "ipython",
    "version": 3
   },
   "file_extension": ".py",
   "mimetype": "text/x-python",
   "name": "python",
   "nbconvert_exporter": "python",
   "pygments_lexer": "ipython3",
   "version": "3.10.14"
  }
 },
 "nbformat": 4,
 "nbformat_minor": 2
}
