{
 "cells": [
  {
   "cell_type": "code",
   "execution_count": null,
   "metadata": {},
   "outputs": [],
   "source": [
    "import os\n",
    "from collections import defaultdict\n",
    "from vlmeval.smp import ls, load, dump, download_file, encode_image_file_to_base64, md5\n",
    "import pandas as pd"
   ]
  },
  {
   "cell_type": "code",
   "execution_count": null,
   "metadata": {},
   "outputs": [],
   "source": [
    "download_file('https://ai2-public-datasets.s3.amazonaws.com/diagrams/ai2d-all.zip')\n",
    "os.system('unzip -o ai2d-all.zip')\n",
    "\n",
    "images = ls('ai2d/images/')\n",
    "questions = ls('ai2d/questions/')\n",
    "cates = load('ai2d/categories.json')"
   ]
  },
  {
   "cell_type": "code",
   "execution_count": null,
   "metadata": {},
   "outputs": [],
   "source": [
    "data_all = defaultdict(list)\n",
    "for qfile in questions:\n",
    "    data = load(qfile)\n",
    "    image_pth = qfile.replace('questions', 'images').replace('.json', '')\n",
    "    cate = cates[image_pth.split('/')[-1]]\n",
    "    for q, qmeta in data['questions'].items():\n",
    "        assert '.png-' in qmeta['questionId']\n",
    "        main, sub = qmeta['questionId'].split('.png-')\n",
    "        idx = int(main) * 100 + int(sub)\n",
    "        data_all['index'].append(idx)\n",
    "        data_all['question'].append(q)\n",
    "        data_all['image_path'].append(image_pth)\n",
    "        answers = qmeta['answerTexts']\n",
    "        correct = qmeta['correctAnswer']\n",
    "        assert len(answers) == 4\n",
    "        for c, a in zip('ABCD', answers):\n",
    "            data_all[c].append(a)\n",
    "        data_all['answer'].append('ABCD'[qmeta['correctAnswer']])\n",
    "        data_all['category'].append(cate)\n",
    "data_all = pd.DataFrame(data_all)"
   ]
  },
  {
   "cell_type": "code",
   "execution_count": null,
   "metadata": {},
   "outputs": [],
   "source": [
    "data = data_all\n",
    "print(data.keys())"
   ]
  },
  {
   "cell_type": "code",
   "execution_count": null,
   "metadata": {},
   "outputs": [],
   "source": [
    "images = []\n",
    "image_seen = {}\n",
    "for idx, pth in zip(data['index'], data['image_path']):\n",
    "    if pth in image_seen:\n",
    "        images.append(image_seen[pth])\n",
    "    else:\n",
    "        image_seen[pth] = idx\n",
    "        images.append(encode_image_file_to_base64(pth))\n",
    "\n",
    "data['image'] = images\n",
    "dump(data, 'AI2D.tsv')\n",
    "print(md5('AI2D.tsv'))"
   ]
  }
 ],
 "metadata": {
  "language_info": {
   "name": "python"
  }
 },
 "nbformat": 4,
 "nbformat_minor": 2
}
